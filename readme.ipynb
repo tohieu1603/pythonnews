{
 "cells": [
  {
   "cell_type": "code",
   "execution_count": null,
   "id": "39ad740a",
   "metadata": {
    "vscode": {
     "languageId": "plaintext"
    }
   },
   "outputs": [],
   "source": [
    "from typing import Optional, Generator, Tuple\n",
    "import pandas as pd\n",
    "from vnstock import Listing\n",
    "\n",
    "class VNStockClient:\n",
    "    def iter_all_symbols(\n",
    "        self, exchange: Optional[str] = \"HSX\"\n",
    "    ) -> Generator[Tuple[str, str], None, None]:\n",
    "        \"\"\"\n",
    "        Lấy danh sách các mã ở sàn HSX (mặc định).\n",
    "        Nếu truyền sàn khác sẽ lọc theo sàn đó.\n",
    "        Chỉ lấy mã có đúng 3 ký tự chữ cái và bắt đầu bằng 'VN'.\n",
    "        \"\"\"\n",
    "        listing = Listing()\n",
    "        df = listing.symbols_by_exchange()\n",
    "        exch = (exchange or \"HSX\").upper()\n",
    "        df = df[df[\"exchange\"] == exch]\n",
    "\n",
    "        # Chỉ lấy các mã gồm toàn chữ cái\n",
    "        df = df[df[\"symbol\"].str.isalpha()]\n",
    "\n",
    "        # Chỉ lấy các mã có đúng 3 ký tự và bắt đầu bằng 'VN'\n",
    "        df = df[df[\"symbol\"].str.upper().str.startswith(\"VN\")]\n",
    "        df = df[df[\"symbol\"].str.len() == 3]\n",
    "\n",
    "        for _, row in df.iterrows():\n",
    "            yield str(row.get(\"symbol\")), str(row.get(\"exchange\"))\n"
   ]
  }
 ],
 "metadata": {
  "kernelspec": {
   "display_name": ".venv",
   "language": "python",
   "name": "python3"
  },
  "language_info": {
   "codemirror_mode": {
    "name": "ipython",
    "version": 3
   },
   "file_extension": ".py",
   "mimetype": "text/x-python",
   "name": "python",
   "nbconvert_exporter": "python",
   "pygments_lexer": "ipython3",
   "version": "3.10.6"
  }
 },
 "nbformat": 4,
 "nbformat_minor": 5
}
